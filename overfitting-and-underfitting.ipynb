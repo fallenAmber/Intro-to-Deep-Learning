{
 "cells": [
  {
   "cell_type": "markdown",
   "id": "3bfeefb4",
   "metadata": {
    "papermill": {
     "duration": 0.006382,
     "end_time": "2022-07-21T06:35:41.118772",
     "exception": false,
     "start_time": "2022-07-21T06:35:41.112390",
     "status": "completed"
    },
    "tags": []
   },
   "source": [
    "**This notebook is an exercise in the [Intro to Deep Learning](https://www.kaggle.com/learn/intro-to-deep-learning) course.  You can reference the tutorial at [this link](https://www.kaggle.com/ryanholbrook/overfitting-and-underfitting).**\n",
    "\n",
    "---\n"
   ]
  },
  {
   "cell_type": "markdown",
   "id": "0d5909ec",
   "metadata": {
    "papermill": {
     "duration": 0.004903,
     "end_time": "2022-07-21T06:35:41.129150",
     "exception": false,
     "start_time": "2022-07-21T06:35:41.124247",
     "status": "completed"
    },
    "tags": []
   },
   "source": [
    "# Introduction #\n",
    "\n",
    "In this exercise, you’ll learn how to improve training outcomes by including an early stopping callback to prevent overfitting.\n",
    "\n",
    "When you're ready, run this next cell to set everything up!"
   ]
  },
  {
   "cell_type": "code",
   "execution_count": 1,
   "id": "c2e0a53a",
   "metadata": {
    "execution": {
     "iopub.execute_input": "2022-07-21T06:35:41.141323Z",
     "iopub.status.busy": "2022-07-21T06:35:41.140756Z",
     "iopub.status.idle": "2022-07-21T06:35:41.182418Z",
     "shell.execute_reply": "2022-07-21T06:35:41.181537Z"
    },
    "papermill": {
     "duration": 0.050349,
     "end_time": "2022-07-21T06:35:41.184515",
     "exception": false,
     "start_time": "2022-07-21T06:35:41.134166",
     "status": "completed"
    },
    "tags": []
   },
   "outputs": [],
   "source": [
    "# Setup plotting\n",
    "import matplotlib.pyplot as plt\n",
    "plt.style.use('seaborn-whitegrid')\n",
    "# Set Matplotlib defaults\n",
    "plt.rc('figure', autolayout=True)\n",
    "plt.rc('axes', labelweight='bold', labelsize='large',\n",
    "       titleweight='bold', titlesize=18, titlepad=10)\n",
    "plt.rc('animation', html='html5')\n",
    "\n",
    "# Setup feedback system\n",
    "from learntools.core import binder\n",
    "binder.bind(globals())\n",
    "from learntools.deep_learning_intro.ex4 import *"
   ]
  },
  {
   "cell_type": "markdown",
   "id": "e2b9833a",
   "metadata": {
    "papermill": {
     "duration": 0.005014,
     "end_time": "2022-07-21T06:35:41.194586",
     "exception": false,
     "start_time": "2022-07-21T06:35:41.189572",
     "status": "completed"
    },
    "tags": []
   },
   "source": [
    "First load the *Spotify* dataset. Your task will be to predict the popularity of a song based on various audio features, like `'tempo'`, `'danceability'`, and `'mode'`."
   ]
  },
  {
   "cell_type": "code",
   "execution_count": 2,
   "id": "34246255",
   "metadata": {
    "execution": {
     "iopub.execute_input": "2022-07-21T06:35:41.206020Z",
     "iopub.status.busy": "2022-07-21T06:35:41.205747Z",
     "iopub.status.idle": "2022-07-21T06:35:48.068802Z",
     "shell.execute_reply": "2022-07-21T06:35:48.067705Z"
    },
    "papermill": {
     "duration": 6.87189,
     "end_time": "2022-07-21T06:35:48.071488",
     "exception": false,
     "start_time": "2022-07-21T06:35:41.199598",
     "status": "completed"
    },
    "tags": []
   },
   "outputs": [
    {
     "name": "stdout",
     "output_type": "stream",
     "text": [
      "Input shape: [18]\n"
     ]
    }
   ],
   "source": [
    "import pandas as pd\n",
    "from sklearn.preprocessing import StandardScaler, OneHotEncoder\n",
    "from sklearn.compose import make_column_transformer\n",
    "from sklearn.model_selection import GroupShuffleSplit\n",
    "\n",
    "from tensorflow import keras\n",
    "from tensorflow.keras import layers\n",
    "from tensorflow.keras import callbacks\n",
    "\n",
    "spotify = pd.read_csv('../input/dl-course-data/spotify.csv')\n",
    "\n",
    "X = spotify.copy().dropna()\n",
    "y = X.pop('track_popularity')\n",
    "artists = X['track_artist']\n",
    "\n",
    "features_num = ['danceability', 'energy', 'key', 'loudness', 'mode',\n",
    "                'speechiness', 'acousticness', 'instrumentalness',\n",
    "                'liveness', 'valence', 'tempo', 'duration_ms']\n",
    "features_cat = ['playlist_genre']\n",
    "\n",
    "preprocessor = make_column_transformer(\n",
    "    (StandardScaler(), features_num),\n",
    "    (OneHotEncoder(), features_cat),\n",
    ")\n",
    "\n",
    "# We'll do a \"grouped\" split to keep all of an artist's songs in one\n",
    "# split or the other. This is to help prevent signal leakage.\n",
    "def group_split(X, y, group, train_size=0.75):\n",
    "    splitter = GroupShuffleSplit(train_size=train_size)\n",
    "    train, test = next(splitter.split(X, y, groups=group))\n",
    "    return (X.iloc[train], X.iloc[test], y.iloc[train], y.iloc[test])\n",
    "\n",
    "X_train, X_valid, y_train, y_valid = group_split(X, y, artists)\n",
    "\n",
    "X_train = preprocessor.fit_transform(X_train)\n",
    "X_valid = preprocessor.transform(X_valid)\n",
    "y_train = y_train / 100 # popularity is on a scale 0-100, so this rescales to 0-1.\n",
    "y_valid = y_valid / 100\n",
    "\n",
    "input_shape = [X_train.shape[1]]\n",
    "print(\"Input shape: {}\".format(input_shape))"
   ]
  },
  {
   "cell_type": "markdown",
   "id": "20560484",
   "metadata": {
    "papermill": {
     "duration": 0.005574,
     "end_time": "2022-07-21T06:35:48.082860",
     "exception": false,
     "start_time": "2022-07-21T06:35:48.077286",
     "status": "completed"
    },
    "tags": []
   },
   "source": [
    "Let's start with the simplest network, a linear model. This model has low capacity.\n",
    "\n",
    "Run this next cell without any changes to train a linear model on the *Spotify* dataset."
   ]
  },
  {
   "cell_type": "code",
   "execution_count": 3,
   "id": "45cdab66",
   "metadata": {
    "execution": {
     "iopub.execute_input": "2022-07-21T06:35:48.094840Z",
     "iopub.status.busy": "2022-07-21T06:35:48.094125Z",
     "iopub.status.idle": "2022-07-21T06:36:01.634795Z",
     "shell.execute_reply": "2022-07-21T06:36:01.633797Z"
    },
    "lines_to_next_cell": 0,
    "papermill": {
     "duration": 13.548714,
     "end_time": "2022-07-21T06:36:01.636822",
     "exception": false,
     "start_time": "2022-07-21T06:35:48.088108",
     "status": "completed"
    },
    "tags": []
   },
   "outputs": [
    {
     "name": "stderr",
     "output_type": "stream",
     "text": [
      "2022-07-21 06:35:48.194341: I tensorflow/stream_executor/cuda/cuda_gpu_executor.cc:937] successful NUMA node read from SysFS had negative value (-1), but there must be at least one NUMA node, so returning NUMA node zero\n",
      "2022-07-21 06:35:48.310718: I tensorflow/stream_executor/cuda/cuda_gpu_executor.cc:937] successful NUMA node read from SysFS had negative value (-1), but there must be at least one NUMA node, so returning NUMA node zero\n",
      "2022-07-21 06:35:48.311658: I tensorflow/stream_executor/cuda/cuda_gpu_executor.cc:937] successful NUMA node read from SysFS had negative value (-1), but there must be at least one NUMA node, so returning NUMA node zero\n",
      "2022-07-21 06:35:48.313524: I tensorflow/core/platform/cpu_feature_guard.cc:142] This TensorFlow binary is optimized with oneAPI Deep Neural Network Library (oneDNN) to use the following CPU instructions in performance-critical operations:  AVX2 AVX512F FMA\n",
      "To enable them in other operations, rebuild TensorFlow with the appropriate compiler flags.\n",
      "2022-07-21 06:35:48.313832: I tensorflow/stream_executor/cuda/cuda_gpu_executor.cc:937] successful NUMA node read from SysFS had negative value (-1), but there must be at least one NUMA node, so returning NUMA node zero\n",
      "2022-07-21 06:35:48.314600: I tensorflow/stream_executor/cuda/cuda_gpu_executor.cc:937] successful NUMA node read from SysFS had negative value (-1), but there must be at least one NUMA node, so returning NUMA node zero\n",
      "2022-07-21 06:35:48.315308: I tensorflow/stream_executor/cuda/cuda_gpu_executor.cc:937] successful NUMA node read from SysFS had negative value (-1), but there must be at least one NUMA node, so returning NUMA node zero\n",
      "2022-07-21 06:35:50.404556: I tensorflow/stream_executor/cuda/cuda_gpu_executor.cc:937] successful NUMA node read from SysFS had negative value (-1), but there must be at least one NUMA node, so returning NUMA node zero\n",
      "2022-07-21 06:35:50.405448: I tensorflow/stream_executor/cuda/cuda_gpu_executor.cc:937] successful NUMA node read from SysFS had negative value (-1), but there must be at least one NUMA node, so returning NUMA node zero\n",
      "2022-07-21 06:35:50.406142: I tensorflow/stream_executor/cuda/cuda_gpu_executor.cc:937] successful NUMA node read from SysFS had negative value (-1), but there must be at least one NUMA node, so returning NUMA node zero\n",
      "2022-07-21 06:35:50.406761: I tensorflow/core/common_runtime/gpu/gpu_device.cc:1510] Created device /job:localhost/replica:0/task:0/device:GPU:0 with 15403 MB memory:  -> device: 0, name: Tesla P100-PCIE-16GB, pci bus id: 0000:00:04.0, compute capability: 6.0\n",
      "2022-07-21 06:35:50.828067: I tensorflow/compiler/mlir/mlir_graph_optimization_pass.cc:185] None of the MLIR Optimization Passes are enabled (registered 2)\n"
     ]
    },
    {
     "name": "stdout",
     "output_type": "stream",
     "text": [
      "Minimum Validation Loss: 0.1924\n"
     ]
    },
    {
     "data": {
      "image/png": "[encoded data removed]",
      "text/plain": [
       "<Figure size 432x288 with 1 Axes>"
      ]
     },
     "metadata": {},
     "output_type": "display_data"
    }
   ],
   "source": [
    "model = keras.Sequential([\n",
    "    layers.Dense(1, input_shape=input_shape),\n",
    "])\n",
    "model.compile(\n",
    "    optimizer='adam',\n",
    "    loss='mae',\n",
    ")\n",
    "history = model.fit(\n",
    "    X_train, y_train,\n",
    "    validation_data=(X_valid, y_valid),\n",
    "    batch_size=512,\n",
    "    epochs=50,\n",
    "    verbose=0, # suppress output since we'll plot the curves\n",
    ")\n",
    "history_df = pd.DataFrame(history.history)\n",
    "history_df.loc[0:, ['loss', 'val_loss']].plot()\n",
    "print(\"Minimum Validation Loss: {:0.4f}\".format(history_df['val_loss'].min()));"
   ]
  },
  {
   "cell_type": "markdown",
   "id": "e7382395",
   "metadata": {
    "papermill": {
     "duration": 0.005315,
     "end_time": "2022-07-21T06:36:01.648004",
     "exception": false,
     "start_time": "2022-07-21T06:36:01.642689",
     "status": "completed"
    },
    "tags": []
   },
   "source": [
    "It's not uncommon for the curves to follow a \"hockey stick\" pattern like you see here. This makes the final part of training hard to see, so let's start at epoch 10 instead:"
   ]
  },
  {
   "cell_type": "code",
   "execution_count": 4,
   "id": "1e7cedb9",
   "metadata": {
    "execution": {
     "iopub.execute_input": "2022-07-21T06:36:01.660726Z",
     "iopub.status.busy": "2022-07-21T06:36:01.660434Z",
     "iopub.status.idle": "2022-07-21T06:36:01.888784Z",
     "shell.execute_reply": "2022-07-21T06:36:01.887417Z"
    },
    "papermill": {
     "duration": 0.237118,
     "end_time": "2022-07-21T06:36:01.891212",
     "exception": false,
     "start_time": "2022-07-21T06:36:01.654094",
     "status": "completed"
    },
    "tags": []
   },
   "outputs": [
    {
     "name": "stdout",
     "output_type": "stream",
     "text": [
      "Minimum Validation Loss: 0.1924\n"
     ]
    },
    {
     "data": {
      "image/png": "[encoded data removed]",
      "text/plain": [
       "<Figure size 432x288 with 1 Axes>"
      ]
     },
     "metadata": {},
     "output_type": "display_data"
    }
   ],
   "source": [
    "# Start the plot at epoch 10\n",
    "history_df.loc[10:, ['loss', 'val_loss']].plot()\n",
    "print(\"Minimum Validation Loss: {:0.4f}\".format(history_df['val_loss'].min()));"
   ]
  },
  {
   "cell_type": "markdown",
   "id": "3caf6d5b",
   "metadata": {
    "papermill": {
     "duration": 0.005635,
     "end_time": "2022-07-21T06:36:01.902981",
     "exception": false,
     "start_time": "2022-07-21T06:36:01.897346",
     "status": "completed"
    },
    "tags": []
   },
   "source": [
    "# 1) Evaluate Baseline\n",
    "\n",
    "What do you think? Would you say this model is underfitting, overfitting, just right?"
   ]
  },
  {
   "cell_type": "code",
   "execution_count": 5,
   "id": "a9398353",
   "metadata": {
    "execution": {
     "iopub.execute_input": "2022-07-21T06:36:01.916935Z",
     "iopub.status.busy": "2022-07-21T06:36:01.916357Z",
     "iopub.status.idle": "2022-07-21T06:36:01.925070Z",
     "shell.execute_reply": "2022-07-21T06:36:01.924244Z"
    },
    "papermill": {
     "duration": 0.017812,
     "end_time": "2022-07-21T06:36:01.926910",
     "exception": false,
     "start_time": "2022-07-21T06:36:01.909098",
     "status": "completed"
    },
    "tags": []
   },
   "outputs": [
    {
     "data": {
      "application/javascript": [
       "parent.postMessage({\"jupyterEvent\": \"custom.exercise_interaction\", \"data\": {\"outcomeType\": 1, \"valueTowardsCompletion\": 0.25, \"interactionType\": 1, \"questionType\": 4, \"questionId\": \"1_Q1\", \"learnToolsVersion\": \"0.3.4\", \"failureMessage\": \"\", \"exceptionClass\": \"\", \"trace\": \"\"}}, \"*\")"
      ],
      "text/plain": [
       "<IPython.core.display.Javascript object>"
      ]
     },
     "metadata": {},
     "output_type": "display_data"
    },
    {
     "data": {
      "text/markdown": [
       "<span style=\"color:#33cc33\">Correct:</span> \n",
       "\n",
       "The gap between these curves is quite small and the validation loss never increases, so it's more likely that the network is underfitting than overfitting. It would be worth experimenting with more capacity to see if that's the case."
      ],
      "text/plain": [
       "Correct: \n",
       "\n",
       "The gap between these curves is quite small and the validation loss never increases, so it's more likely that the network is underfitting than overfitting. It would be worth experimenting with more capacity to see if that's the case."
      ]
     },
     "metadata": {},
     "output_type": "display_data"
    }
   ],
   "source": [
    "# View the solution (Run this cell to receive credit!)\n",
    "q_1.check()"
   ]
  },
  {
   "cell_type": "markdown",
   "id": "be89167b",
   "metadata": {
    "papermill": {
     "duration": 0.005764,
     "end_time": "2022-07-21T06:36:01.938969",
     "exception": false,
     "start_time": "2022-07-21T06:36:01.933205",
     "status": "completed"
    },
    "tags": []
   },
   "source": [
    "Now let's add some capacity to our network. We'll add three hidden layers with 128 units each. Run the next cell to train the network and see the learning curves."
   ]
  },
  {
   "cell_type": "code",
   "execution_count": 6,
   "id": "c2618632",
   "metadata": {
    "execution": {
     "iopub.execute_input": "2022-07-21T06:36:01.954052Z",
     "iopub.status.busy": "2022-07-21T06:36:01.952446Z",
     "iopub.status.idle": "2022-07-21T06:36:12.736361Z",
     "shell.execute_reply": "2022-07-21T06:36:12.735075Z"
    },
    "papermill": {
     "duration": 10.793422,
     "end_time": "2022-07-21T06:36:12.738629",
     "exception": false,
     "start_time": "2022-07-21T06:36:01.945207",
     "status": "completed"
    },
    "tags": []
   },
   "outputs": [
    {
     "name": "stdout",
     "output_type": "stream",
     "text": [
      "Epoch 1/50\n",
      "49/49 [==============================] - 0s 4ms/step - loss: 0.2443 - val_loss: 0.2019\n",
      "Epoch 2/50\n",
      "49/49 [==============================] - 0s 3ms/step - loss: 0.2032 - val_loss: 0.1986\n",
      "Epoch 3/50\n",
      "49/49 [==============================] - 0s 3ms/step - loss: 0.1979 - val_loss: 0.1971\n",
      "Epoch 4/50\n",
      "49/49 [==============================] - 0s 3ms/step - loss: 0.1948 - val_loss: 0.1951\n",
      "Epoch 5/50\n",
      "49/49 [==============================] - 0s 3ms/step - loss: 0.1924 - val_loss: 0.1944\n",
      "Epoch 6/50\n",
      "49/49 [==============================] - 0s 3ms/step - loss: 0.1914 - val_loss: 0.1950\n",
      "Epoch 7/50\n",
      "49/49 [==============================] - 0s 3ms/step - loss: 0.1898 - val_loss: 0.1941\n",
      "Epoch 8/50\n",
      "49/49 [==============================] - 0s 3ms/step - loss: 0.1885 - val_loss: 0.1937\n",
      "Epoch 9/50\n",
      "49/49 [==============================] - 0s 3ms/step - loss: 0.1876 - val_loss: 0.1945\n",
      "Epoch 10/50\n",
      "49/49 [==============================] - 0s 3ms/step - loss: 0.1871 - val_loss: 0.1987\n",
      "Epoch 11/50\n",
      "49/49 [==============================] - 0s 5ms/step - loss: 0.1863 - val_loss: 0.1936\n",
      "Epoch 12/50\n",
      "49/49 [==============================] - 0s 4ms/step - loss: 0.1850 - val_loss: 0.1939\n",
      "Epoch 13/50\n",
      "49/49 [==============================] - 0s 5ms/step - loss: 0.1841 - val_loss: 0.1939\n",
      "Epoch 14/50\n",
      "49/49 [==============================] - 0s 5ms/step - loss: 0.1836 - val_loss: 0.1934\n",
      "Epoch 15/50\n",
      "49/49 [==============================] - 0s 4ms/step - loss: 0.1824 - val_loss: 0.1960\n",
      "Epoch 16/50\n",
      "49/49 [==============================] - 0s 3ms/step - loss: 0.1821 - val_loss: 0.1941\n",
      "Epoch 17/50\n",
      "49/49 [==============================] - 0s 3ms/step - loss: 0.1816 - val_loss: 0.1945\n",
      "Epoch 18/50\n",
      "49/49 [==============================] - 0s 4ms/step - loss: 0.1807 - val_loss: 0.1952\n",
      "Epoch 19/50\n",
      "49/49 [==============================] - 0s 5ms/step - loss: 0.1802 - val_loss: 0.1941\n",
      "Epoch 20/50\n",
      "49/49 [==============================] - 0s 5ms/step - loss: 0.1795 - val_loss: 0.1939\n",
      "Epoch 21/50\n",
      "49/49 [==============================] - 0s 3ms/step - loss: 0.1788 - val_loss: 0.1940\n",
      "Epoch 22/50\n",
      "49/49 [==============================] - 0s 3ms/step - loss: 0.1785 - val_loss: 0.1951\n",
      "Epoch 23/50\n",
      "49/49 [==============================] - 0s 3ms/step - loss: 0.1776 - val_loss: 0.1956\n",
      "Epoch 24/50\n",
      "49/49 [==============================] - 0s 3ms/step - loss: 0.1777 - val_loss: 0.1956\n",
      "Epoch 25/50\n",
      "49/49 [==============================] - 0s 3ms/step - loss: 0.1764 - val_loss: 0.1963\n",
      "Epoch 26/50\n",
      "49/49 [==============================] - 0s 3ms/step - loss: 0.1761 - val_loss: 0.1958\n",
      "Epoch 27/50\n",
      "49/49 [==============================] - 0s 3ms/step - loss: 0.1760 - val_loss: 0.1967\n",
      "Epoch 28/50\n",
      "49/49 [==============================] - 0s 3ms/step - loss: 0.1756 - val_loss: 0.1961\n",
      "Epoch 29/50\n",
      "49/49 [==============================] - 0s 3ms/step - loss: 0.1746 - val_loss: 0.1970\n",
      "Epoch 30/50\n",
      "49/49 [==============================] - 0s 3ms/step - loss: 0.1732 - val_loss: 0.1970\n",
      "Epoch 31/50\n",
      "49/49 [==============================] - 0s 3ms/step - loss: 0.1738 - val_loss: 0.1970\n",
      "Epoch 32/50\n",
      "49/49 [==============================] - 0s 3ms/step - loss: 0.1728 - val_loss: 0.1977\n",
      "Epoch 33/50\n",
      "49/49 [==============================] - 0s 3ms/step - loss: 0.1724 - val_loss: 0.1980\n",
      "Epoch 34/50\n",
      "49/49 [==============================] - 0s 3ms/step - loss: 0.1712 - val_loss: 0.1989\n",
      "Epoch 35/50\n",
      "49/49 [==============================] - 0s 3ms/step - loss: 0.1717 - val_loss: 0.1984\n",
      "Epoch 36/50\n",
      "49/49 [==============================] - 0s 3ms/step - loss: 0.1708 - val_loss: 0.1976\n",
      "Epoch 37/50\n",
      "49/49 [==============================] - 0s 3ms/step - loss: 0.1712 - val_loss: 0.1997\n",
      "Epoch 38/50\n",
      "49/49 [==============================] - 0s 3ms/step - loss: 0.1715 - val_loss: 0.1988\n",
      "Epoch 39/50\n",
      "49/49 [==============================] - 0s 3ms/step - loss: 0.1711 - val_loss: 0.2002\n",
      "Epoch 40/50\n",
      "49/49 [==============================] - 0s 3ms/step - loss: 0.1692 - val_loss: 0.1993\n",
      "Epoch 41/50\n",
      "49/49 [==============================] - 0s 3ms/step - loss: 0.1683 - val_loss: 0.1993\n",
      "Epoch 42/50\n",
      "49/49 [==============================] - 0s 3ms/step - loss: 0.1678 - val_loss: 0.1993\n",
      "Epoch 43/50\n",
      "49/49 [==============================] - 0s 3ms/step - loss: 0.1686 - val_loss: 0.1998\n",
      "Epoch 44/50\n",
      "49/49 [==============================] - 0s 3ms/step - loss: 0.1672 - val_loss: 0.2004\n",
      "Epoch 45/50\n",
      "49/49 [==============================] - 0s 3ms/step - loss: 0.1670 - val_loss: 0.2012\n",
      "Epoch 46/50\n",
      "49/49 [==============================] - 0s 3ms/step - loss: 0.1670 - val_loss: 0.2004\n",
      "Epoch 47/50\n",
      "49/49 [==============================] - 0s 3ms/step - loss: 0.1665 - val_loss: 0.2011\n",
      "Epoch 48/50\n",
      "49/49 [==============================] - 0s 3ms/step - loss: 0.1660 - val_loss: 0.2012\n",
      "Epoch 49/50\n",
      "49/49 [==============================] - 0s 3ms/step - loss: 0.1662 - val_loss: 0.2017\n",
      "Epoch 50/50\n",
      "49/49 [==============================] - 0s 3ms/step - loss: 0.1648 - val_loss: 0.2011\n",
      "Minimum Validation Loss: 0.1934\n"
     ]
    },
    {
     "data": {
      "image/png": "[encoded data removed]",
      "text/plain": [
       "<Figure size 432x288 with 1 Axes>"
      ]
     },
     "metadata": {},
     "output_type": "display_data"
    }
   ],
   "source": [
    "model = keras.Sequential([\n",
    "    layers.Dense(128, activation='relu', input_shape=input_shape),\n",
    "    layers.Dense(64, activation='relu'),\n",
    "    layers.Dense(1)\n",
    "])\n",
    "model.compile(\n",
    "    optimizer='adam',\n",
    "    loss='mae',\n",
    ")\n",
    "history = model.fit(\n",
    "    X_train, y_train,\n",
    "    validation_data=(X_valid, y_valid),\n",
    "    batch_size=512,\n",
    "    epochs=50,\n",
    ")\n",
    "history_df = pd.DataFrame(history.history)\n",
    "history_df.loc[:, ['loss', 'val_loss']].plot()\n",
    "print(\"Minimum Validation Loss: {:0.4f}\".format(history_df['val_loss'].min()));"
   ]
  },
  {
   "cell_type": "markdown",
   "id": "240734fa",
   "metadata": {
    "papermill": {
     "duration": 0.016738,
     "end_time": "2022-07-21T06:36:12.772897",
     "exception": false,
     "start_time": "2022-07-21T06:36:12.756159",
     "status": "completed"
    },
    "tags": []
   },
   "source": [
    "# 2) Add Capacity\n",
    "\n",
    "What is your evaluation of these curves? Underfitting, overfitting, just right?"
   ]
  },
  {
   "cell_type": "code",
   "execution_count": 7,
   "id": "663bd84e",
   "metadata": {
    "execution": {
     "iopub.execute_input": "2022-07-21T06:36:12.807490Z",
     "iopub.status.busy": "2022-07-21T06:36:12.807186Z",
     "iopub.status.idle": "2022-07-21T06:36:12.817166Z",
     "shell.execute_reply": "2022-07-21T06:36:12.816242Z"
    },
    "papermill": {
     "duration": 0.029315,
     "end_time": "2022-07-21T06:36:12.819311",
     "exception": false,
     "start_time": "2022-07-21T06:36:12.789996",
     "status": "completed"
    },
    "tags": []
   },
   "outputs": [
    {
     "data": {
      "application/javascript": [
       "parent.postMessage({\"jupyterEvent\": \"custom.exercise_interaction\", \"data\": {\"outcomeType\": 1, \"valueTowardsCompletion\": 0.25, \"interactionType\": 1, \"questionType\": 4, \"questionId\": \"2_Q2\", \"learnToolsVersion\": \"0.3.4\", \"failureMessage\": \"\", \"exceptionClass\": \"\", \"trace\": \"\"}}, \"*\")"
      ],
      "text/plain": [
       "<IPython.core.display.Javascript object>"
      ]
     },
     "metadata": {},
     "output_type": "display_data"
    },
    {
     "data": {
      "text/markdown": [
       "<span style=\"color:#33cc33\">Correct:</span> \n",
       "\n",
       "Now the validation loss begins to rise very early, while the training loss continues to decrease. This indicates that the network has begun to overfit. At this point, we would need to try something to prevent it, either by reducing the number of units or through a method like early stopping. (We'll see another in the next lesson!)"
      ],
      "text/plain": [
       "Correct: \n",
       "\n",
       "Now the validation loss begins to rise very early, while the training loss continues to decrease. This indicates that the network has begun to overfit. At this point, we would need to try something to prevent it, either by reducing the number of units or through a method like early stopping. (We'll see another in the next lesson!)"
      ]
     },
     "metadata": {},
     "output_type": "display_data"
    }
   ],
   "source": [
    "# View the solution (Run this cell to receive credit!)\n",
    "q_2.check()"
   ]
  },
  {
   "cell_type": "markdown",
   "id": "608cb47e",
   "metadata": {
    "papermill": {
     "duration": 0.017384,
     "end_time": "2022-07-21T06:36:12.853917",
     "exception": false,
     "start_time": "2022-07-21T06:36:12.836533",
     "status": "completed"
    },
    "tags": []
   },
   "source": [
    "# 3) Define Early Stopping Callback\n",
    "\n",
    "Now define an early stopping callback that waits 5 epochs (`patience'`) for a change in validation loss of at least `0.001` (`min_delta`) and keeps the weights with the best loss (`restore_best_weights`)."
   ]
  },
  {
   "cell_type": "code",
   "execution_count": 8,
   "id": "c0dc5c9e",
   "metadata": {
    "execution": {
     "iopub.execute_input": "2022-07-21T06:36:12.889323Z",
     "iopub.status.busy": "2022-07-21T06:36:12.888973Z",
     "iopub.status.idle": "2022-07-21T06:36:12.900922Z",
     "shell.execute_reply": "2022-07-21T06:36:12.900043Z"
    },
    "lines_to_next_cell": 0,
    "papermill": {
     "duration": 0.032001,
     "end_time": "2022-07-21T06:36:12.902855",
     "exception": false,
     "start_time": "2022-07-21T06:36:12.870854",
     "status": "completed"
    },
    "tags": []
   },
   "outputs": [
    {
     "data": {
      "application/javascript": [
       "parent.postMessage({\"jupyterEvent\": \"custom.exercise_interaction\", \"data\": {\"outcomeType\": 1, \"valueTowardsCompletion\": 0.25, \"interactionType\": 1, \"questionType\": 2, \"questionId\": \"3_Q3\", \"learnToolsVersion\": \"0.3.4\", \"failureMessage\": \"\", \"exceptionClass\": \"\", \"trace\": \"\"}}, \"*\")"
      ],
      "text/plain": [
       "<IPython.core.display.Javascript object>"
      ]
     },
     "metadata": {},
     "output_type": "display_data"
    },
    {
     "data": {
      "text/markdown": [
       "<span style=\"color:#33cc33\">Correct</span>"
      ],
      "text/plain": [
       "Correct"
      ]
     },
     "metadata": {},
     "output_type": "display_data"
    }
   ],
   "source": [
    "from tensorflow.keras.callbacks import EarlyStopping\n",
    "\n",
    "# YOUR CODE HERE: define an early stopping callback\n",
    "early_stopping =EarlyStopping(\n",
    "min_delta=0.001,\n",
    "patience=5,\n",
    "restore_best_weights=True,)\n",
    "\n",
    "# Check your answer\n",
    "q_3.check()"
   ]
  },
  {
   "cell_type": "code",
   "execution_count": 9,
   "id": "0cef2c86",
   "metadata": {
    "execution": {
     "iopub.execute_input": "2022-07-21T06:36:12.937722Z",
     "iopub.status.busy": "2022-07-21T06:36:12.937331Z",
     "iopub.status.idle": "2022-07-21T06:36:12.941480Z",
     "shell.execute_reply": "2022-07-21T06:36:12.940484Z"
    },
    "papermill": {
     "duration": 0.023893,
     "end_time": "2022-07-21T06:36:12.943708",
     "exception": false,
     "start_time": "2022-07-21T06:36:12.919815",
     "status": "completed"
    },
    "tags": []
   },
   "outputs": [],
   "source": [
    "# Lines below will give you a hint or solution code\n",
    "#q_3.hint()\n",
    "#q_3.solution()"
   ]
  },
  {
   "cell_type": "markdown",
   "id": "af1813e7",
   "metadata": {
    "papermill": {
     "duration": 0.016287,
     "end_time": "2022-07-21T06:36:12.976410",
     "exception": false,
     "start_time": "2022-07-21T06:36:12.960123",
     "status": "completed"
    },
    "tags": []
   },
   "source": [
    "Now run this cell to train the model and get the learning curves. Notice the `callbacks` argument in `model.fit`."
   ]
  },
  {
   "cell_type": "code",
   "execution_count": 10,
   "id": "f11d1dd9",
   "metadata": {
    "execution": {
     "iopub.execute_input": "2022-07-21T06:36:13.010336Z",
     "iopub.status.busy": "2022-07-21T06:36:13.010052Z",
     "iopub.status.idle": "2022-07-21T06:36:14.836192Z",
     "shell.execute_reply": "2022-07-21T06:36:14.835165Z"
    },
    "papermill": {
     "duration": 1.845477,
     "end_time": "2022-07-21T06:36:14.838533",
     "exception": false,
     "start_time": "2022-07-21T06:36:12.993056",
     "status": "completed"
    },
    "tags": []
   },
   "outputs": [
    {
     "name": "stdout",
     "output_type": "stream",
     "text": [
      "Epoch 1/50\n",
      "49/49 [==============================] - 0s 4ms/step - loss: 0.2379 - val_loss: 0.2035\n",
      "Epoch 2/50\n",
      "49/49 [==============================] - 0s 3ms/step - loss: 0.2025 - val_loss: 0.1960\n",
      "Epoch 3/50\n",
      "49/49 [==============================] - 0s 3ms/step - loss: 0.1968 - val_loss: 0.1947\n",
      "Epoch 4/50\n",
      "49/49 [==============================] - 0s 3ms/step - loss: 0.1938 - val_loss: 0.1942\n",
      "Epoch 5/50\n",
      "49/49 [==============================] - 0s 3ms/step - loss: 0.1919 - val_loss: 0.1946\n",
      "Epoch 6/50\n",
      "49/49 [==============================] - 0s 3ms/step - loss: 0.1902 - val_loss: 0.1942\n",
      "Epoch 7/50\n",
      "49/49 [==============================] - 0s 3ms/step - loss: 0.1892 - val_loss: 0.1951\n",
      "Epoch 8/50\n",
      "49/49 [==============================] - 0s 2ms/step - loss: 0.1885 - val_loss: 0.1938\n",
      "Minimum Validation Loss: 0.1938\n"
     ]
    },
    {
     "data": {
      "image/png": "[encoded data removed]",
      "text/plain": [
       "<Figure size 432x288 with 1 Axes>"
      ]
     },
     "metadata": {},
     "output_type": "display_data"
    }
   ],
   "source": [
    "model = keras.Sequential([\n",
    "    layers.Dense(128, activation='relu', input_shape=input_shape),\n",
    "    layers.Dense(64, activation='relu'),    \n",
    "    layers.Dense(1)\n",
    "])\n",
    "model.compile(\n",
    "    optimizer='adam',\n",
    "    loss='mae',\n",
    ")\n",
    "history = model.fit(\n",
    "    X_train, y_train,\n",
    "    validation_data=(X_valid, y_valid),\n",
    "    batch_size=512,\n",
    "    epochs=50,\n",
    "    callbacks=[early_stopping]\n",
    ")\n",
    "history_df = pd.DataFrame(history.history)\n",
    "history_df.loc[:, ['loss', 'val_loss']].plot()\n",
    "print(\"Minimum Validation Loss: {:0.4f}\".format(history_df['val_loss'].min()));"
   ]
  },
  {
   "cell_type": "markdown",
   "id": "f43dbea0",
   "metadata": {
    "papermill": {
     "duration": 0.018026,
     "end_time": "2022-07-21T06:36:14.876047",
     "exception": false,
     "start_time": "2022-07-21T06:36:14.858021",
     "status": "completed"
    },
    "tags": []
   },
   "source": [
    "# 4) Train and Interpret\n",
    "\n",
    "Was this an improvement compared to training without early stopping?"
   ]
  },
  {
   "cell_type": "code",
   "execution_count": 11,
   "id": "3286b3c8",
   "metadata": {
    "execution": {
     "iopub.execute_input": "2022-07-21T06:36:14.914744Z",
     "iopub.status.busy": "2022-07-21T06:36:14.913916Z",
     "iopub.status.idle": "2022-07-21T06:36:14.922165Z",
     "shell.execute_reply": "2022-07-21T06:36:14.921290Z"
    },
    "papermill": {
     "duration": 0.02924,
     "end_time": "2022-07-21T06:36:14.924144",
     "exception": false,
     "start_time": "2022-07-21T06:36:14.894904",
     "status": "completed"
    },
    "tags": []
   },
   "outputs": [
    {
     "data": {
      "application/javascript": [
       "parent.postMessage({\"jupyterEvent\": \"custom.exercise_interaction\", \"data\": {\"outcomeType\": 1, \"valueTowardsCompletion\": 0.25, \"interactionType\": 1, \"questionType\": 4, \"questionId\": \"4_Q4\", \"learnToolsVersion\": \"0.3.4\", \"failureMessage\": \"\", \"exceptionClass\": \"\", \"trace\": \"\"}}, \"*\")"
      ],
      "text/plain": [
       "<IPython.core.display.Javascript object>"
      ]
     },
     "metadata": {},
     "output_type": "display_data"
    },
    {
     "data": {
      "text/markdown": [
       "<span style=\"color:#33cc33\">Correct:</span> \n",
       "\n",
       "The early stopping callback did stop the training once the network began overfitting. Moreover, by including `restore_best_weights` we still get to keep the model where validation loss was lowest."
      ],
      "text/plain": [
       "Correct: \n",
       "\n",
       "The early stopping callback did stop the training once the network began overfitting. Moreover, by including `restore_best_weights` we still get to keep the model where validation loss was lowest."
      ]
     },
     "metadata": {},
     "output_type": "display_data"
    }
   ],
   "source": [
    "# View the solution (Run this cell to receive credit!)\n",
    "q_4.check()"
   ]
  },
  {
   "cell_type": "markdown",
   "id": "47522b05",
   "metadata": {
    "papermill": {
     "duration": 0.018694,
     "end_time": "2022-07-21T06:36:14.961832",
     "exception": false,
     "start_time": "2022-07-21T06:36:14.943138",
     "status": "completed"
    },
    "tags": []
   },
   "source": [
    "If you like, try experimenting with `patience` and `min_delta` to see what difference it might make.\n",
    "\n",
    "# Keep Going #\n",
    "\n",
    "Move on to [**learn about a couple of special layers**](https://www.kaggle.com/ryanholbrook/dropout-and-batch-normalization): batch normalization and dropout."
   ]
  },
  {
   "cell_type": "markdown",
   "id": "327bab31",
   "metadata": {
    "papermill": {
     "duration": 0.01868,
     "end_time": "2022-07-21T06:36:14.999028",
     "exception": false,
     "start_time": "2022-07-21T06:36:14.980348",
     "status": "completed"
    },
    "tags": []
   },
   "source": [
    "---\n",
    "\n",
    "\n",
    "\n",
    "\n",
    "*Have questions or comments? Visit the [course discussion forum](https://www.kaggle.com/learn/intro-to-deep-learning/discussion) to chat with other learners.*"
   ]
  }
 ],
 "metadata": {
  "kernelspec": {
   "display_name": "Python 3",
   "language": "python",
   "name": "python3"
  },
  "language_info": {
   "codemirror_mode": {
    "name": "ipython",
    "version": 3
   },
   "file_extension": ".py",
   "mimetype": "text/x-python",
   "name": "python",
   "nbconvert_exporter": "python",
   "pygments_lexer": "ipython3",
   "version": "3.7.12"
  },
  "papermill": {
   "default_parameters": {},
   "duration": 45.343378,
   "end_time": "2022-07-21T06:36:18.307356",
   "environment_variables": {},
   "exception": null,
   "input_path": "__notebook__.ipynb",
   "output_path": "__notebook__.ipynb",
   "parameters": {},
   "start_time": "2022-07-21T06:35:32.963978",
   "version": "2.3.4"
  }
 },
 "nbformat": 4,
 "nbformat_minor": 5
}
