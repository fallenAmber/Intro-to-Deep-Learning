{
 "cells": [
  {
   "cell_type": "code",
   "execution_count": 2,
   "id": "58001687",
   "metadata": {},
   "outputs": [],
   "source": [
    "from tensorflow.keras.datasets import mnist\n",
    "from tensorflow.keras.layers import Input,Dense\n",
    "from tensorflow.keras.models import Model\n",
    "\n",
    "import pandas as pd\n",
    "import numpy as np\n",
    "import matplotlib.pyplot as plt"
   ]
  },
  {
   "cell_type": "code",
   "execution_count": 3,
   "id": "9583c2e3",
   "metadata": {},
   "outputs": [],
   "source": [
    "(x_train, _), (x_test, _) = mnist.load_data()"
   ]
  },
  {
   "cell_type": "code",
   "execution_count": 4,
   "id": "a0810c72",
   "metadata": {},
   "outputs": [
    {
     "name": "stdout",
     "output_type": "stream",
     "text": [
      "(60000, 784)\n",
      "(10000, 784)\n"
     ]
    }
   ],
   "source": [
    "x_train = x_train.astype('float32') / 255\n",
    "x_test = x_test.astype('float32') / 255\n",
    "x_train = x_train.reshape((len(x_train), np.prod(x_train.shape[1:])))\n",
    "x_test = x_test.reshape((len(x_test), np.prod(x_test.shape[1:])))\n",
    "print(x_train.shape)\n",
    "print(x_test.shape)"
   ]
  },
  {
   "cell_type": "code",
   "execution_count": 17,
   "id": "b7a83c1d",
   "metadata": {},
   "outputs": [
    {
     "name": "stdout",
     "output_type": "stream",
     "text": [
      "Model: \"model_2\"\n",
      "_________________________________________________________________\n",
      " Layer (type)                Output Shape              Param #   \n",
      "=================================================================\n",
      " input_5 (InputLayer)        [(None, 784)]             0         \n",
      "                                                                 \n",
      " dense_8 (Dense)             (None, 256)               200960    \n",
      "                                                                 \n",
      " dense_9 (Dense)             (None, 128)               32896     \n",
      "                                                                 \n",
      " dense_10 (Dense)            (None, 64)                8256      \n",
      "                                                                 \n",
      " dense_11 (Dense)            (None, 32)                2080      \n",
      "                                                                 \n",
      " dense_12 (Dense)            (None, 64)                2112      \n",
      "                                                                 \n",
      " dense_13 (Dense)            (None, 128)               8320      \n",
      "                                                                 \n",
      " dense_14 (Dense)            (None, 256)               33024     \n",
      "                                                                 \n",
      " dense_15 (Dense)            (None, 784)               201488    \n",
      "                                                                 \n",
      "=================================================================\n",
      "Total params: 489,136\n",
      "Trainable params: 489,136\n",
      "Non-trainable params: 0\n",
      "_________________________________________________________________\n"
     ]
    }
   ],
   "source": [
    "# This is the size of our encoded representations\n",
    "encoding_dim = 32\n",
    "\n",
    "# This is our input image\n",
    "input_img = Input(shape=(784,))\n",
    "e1 = Dense(256, activation='relu')(input_img)\n",
    "e2 = Dense(128, activation='relu')(e1)\n",
    "e3 = Dense(64, activation='relu')(e2)\n",
    "# \"encoded\" is the encoded representation of the input\n",
    "encoded = Dense(encoding_dim, activation='relu')(e3)\n",
    "# \"decoded\" is the lossy reconstruction of the input\n",
    "d1 = Dense(64, activation='sigmoid')(encoded)\n",
    "d2 = Dense(128, activation='sigmoid')(d1)\n",
    "d3 = Dense(256, activation='sigmoid')(d2)\n",
    "decoded = Dense(784, activation='sigmoid')(d3)\n",
    "\n",
    "# This model maps an input to its reconstruction\n",
    "autoencoder = Model(input_img, decoded)\n",
    "\n",
    "autoencoder.summary()\n",
    "encoder = Model(input_img, encoded)\n",
    "autoencoder.compile(optimizer='adam', loss='binary_crossentropy')"
   ]
  },
  {
   "cell_type": "code",
   "execution_count": 18,
   "id": "ed9c5d09",
   "metadata": {},
   "outputs": [
    {
     "name": "stdout",
     "output_type": "stream",
     "text": [
      "Epoch 1/40\n",
      "235/235 [==============================] - 2s 7ms/step - loss: 0.2753 - val_loss: 0.2492\n",
      "Epoch 2/40\n",
      "235/235 [==============================] - 2s 8ms/step - loss: 0.2430 - val_loss: 0.2383\n",
      "Epoch 3/40\n",
      "235/235 [==============================] - 2s 8ms/step - loss: 0.2362 - val_loss: 0.2326\n",
      "Epoch 4/40\n",
      "235/235 [==============================] - 2s 8ms/step - loss: 0.2240 - val_loss: 0.2160\n",
      "Epoch 5/40\n",
      "235/235 [==============================] - 2s 8ms/step - loss: 0.2090 - val_loss: 0.2006\n",
      "Epoch 6/40\n",
      "235/235 [==============================] - 2s 8ms/step - loss: 0.1963 - val_loss: 0.1918\n",
      "Epoch 7/40\n",
      "235/235 [==============================] - 2s 8ms/step - loss: 0.1893 - val_loss: 0.1860\n",
      "Epoch 8/40\n",
      "235/235 [==============================] - 2s 8ms/step - loss: 0.1826 - val_loss: 0.1766\n",
      "Epoch 9/40\n",
      "235/235 [==============================] - 2s 8ms/step - loss: 0.1732 - val_loss: 0.1689\n",
      "Epoch 10/40\n",
      "235/235 [==============================] - 2s 8ms/step - loss: 0.1661 - val_loss: 0.1620\n",
      "Epoch 11/40\n",
      "235/235 [==============================] - 2s 8ms/step - loss: 0.1600 - val_loss: 0.1566\n",
      "Epoch 12/40\n",
      "235/235 [==============================] - 2s 8ms/step - loss: 0.1547 - val_loss: 0.1512\n",
      "Epoch 13/40\n",
      "235/235 [==============================] - 2s 9ms/step - loss: 0.1491 - val_loss: 0.1455\n",
      "Epoch 14/40\n",
      "235/235 [==============================] - 2s 8ms/step - loss: 0.1445 - val_loss: 0.1419\n",
      "Epoch 15/40\n",
      "235/235 [==============================] - 2s 8ms/step - loss: 0.1409 - val_loss: 0.1386\n",
      "Epoch 16/40\n",
      "235/235 [==============================] - 2s 8ms/step - loss: 0.1379 - val_loss: 0.1361\n",
      "Epoch 17/40\n",
      "235/235 [==============================] - 2s 8ms/step - loss: 0.1352 - val_loss: 0.1336\n",
      "Epoch 18/40\n",
      "235/235 [==============================] - 2s 8ms/step - loss: 0.1331 - val_loss: 0.1315\n",
      "Epoch 19/40\n",
      "235/235 [==============================] - 2s 8ms/step - loss: 0.1313 - val_loss: 0.1298\n",
      "Epoch 20/40\n",
      "235/235 [==============================] - 2s 8ms/step - loss: 0.1295 - val_loss: 0.1285\n",
      "Epoch 21/40\n",
      "235/235 [==============================] - 2s 8ms/step - loss: 0.1280 - val_loss: 0.1267\n",
      "Epoch 22/40\n",
      "235/235 [==============================] - 2s 8ms/step - loss: 0.1264 - val_loss: 0.1252\n",
      "Epoch 23/40\n",
      "235/235 [==============================] - 2s 8ms/step - loss: 0.1250 - val_loss: 0.1238\n",
      "Epoch 24/40\n",
      "235/235 [==============================] - 2s 8ms/step - loss: 0.1234 - val_loss: 0.1221\n",
      "Epoch 25/40\n",
      "235/235 [==============================] - 2s 8ms/step - loss: 0.1220 - val_loss: 0.1209\n",
      "Epoch 26/40\n",
      "235/235 [==============================] - 2s 8ms/step - loss: 0.1207 - val_loss: 0.1197\n",
      "Epoch 27/40\n",
      "235/235 [==============================] - 2s 9ms/step - loss: 0.1195 - val_loss: 0.1189\n",
      "Epoch 28/40\n",
      "235/235 [==============================] - 2s 9ms/step - loss: 0.1185 - val_loss: 0.1176\n",
      "Epoch 29/40\n",
      "235/235 [==============================] - 2s 8ms/step - loss: 0.1174 - val_loss: 0.1166\n",
      "Epoch 30/40\n",
      "235/235 [==============================] - 2s 8ms/step - loss: 0.1164 - val_loss: 0.1154\n",
      "Epoch 31/40\n",
      "235/235 [==============================] - 2s 8ms/step - loss: 0.1152 - val_loss: 0.1148\n",
      "Epoch 32/40\n",
      "235/235 [==============================] - 2s 9ms/step - loss: 0.1142 - val_loss: 0.1139\n",
      "Epoch 33/40\n",
      "235/235 [==============================] - 3s 12ms/step - loss: 0.1133 - val_loss: 0.1124\n",
      "Epoch 34/40\n",
      "235/235 [==============================] - 2s 9ms/step - loss: 0.1124 - val_loss: 0.1116\n",
      "Epoch 35/40\n",
      "235/235 [==============================] - 2s 9ms/step - loss: 0.1116 - val_loss: 0.1110\n",
      "Epoch 36/40\n",
      "235/235 [==============================] - 2s 8ms/step - loss: 0.1109 - val_loss: 0.1102\n",
      "Epoch 37/40\n",
      "235/235 [==============================] - 2s 8ms/step - loss: 0.1102 - val_loss: 0.1096\n",
      "Epoch 38/40\n",
      "235/235 [==============================] - 2s 9ms/step - loss: 0.1093 - val_loss: 0.1087\n",
      "Epoch 39/40\n",
      "235/235 [==============================] - 2s 9ms/step - loss: 0.1086 - val_loss: 0.1081\n",
      "Epoch 40/40\n",
      "235/235 [==============================] - 2s 9ms/step - loss: 0.1077 - val_loss: 0.1071\n"
     ]
    },
    {
     "data": {
      "text/plain": [
       "<keras.callbacks.History at 0x156ebffa0>"
      ]
     },
     "execution_count": 18,
     "metadata": {},
     "output_type": "execute_result"
    }
   ],
   "source": [
    "autoencoder.fit(x_train, x_train,\n",
    "                epochs=40,\n",
    "                batch_size=256,\n",
    "                shuffle=True,\n",
    "                validation_data=(x_test, x_test))"
   ]
  },
  {
   "cell_type": "code",
   "execution_count": 19,
   "id": "88ba7765",
   "metadata": {},
   "outputs": [
    {
     "name": "stdout",
     "output_type": "stream",
     "text": [
      "313/313 [==============================] - 0s 458us/step\n",
      "313/313 [==============================] - 0s 710us/step\n"
     ]
    }
   ],
   "source": [
    "# Encode and decode some digits\n",
    "# Note that we take them from the *test* set\n",
    "encoded_imgs = encoder.predict(x_test)\n",
    "decoded_imgs = autoencoder.predict(x_test)"
   ]
  },
  {
   "cell_type": "code",
   "execution_count": 20,
   "id": "5533567e",
   "metadata": {},
   "outputs": [
    {
     "data": {
      "image/png": "[encoded data removed]",
      "text/plain": [
       "<Figure size 2000x400 with 20 Axes>"
      ]
     },
     "metadata": {},
     "output_type": "display_data"
    }
   ],
   "source": [
    "n = 10  # How many digits we will display\n",
    "plt.figure(figsize=(20, 4))\n",
    "for i in range(n):\n",
    "    # Display original\n",
    "    ax = plt.subplot(2, n, i + 1)\n",
    "    plt.imshow(x_test[i].reshape(28, 28))\n",
    "    plt.gray()\n",
    "    ax.get_xaxis().set_visible(False)\n",
    "    ax.get_yaxis().set_visible(False)\n",
    "\n",
    "    # Display reconstruction\n",
    "    ax = plt.subplot(2, n, i + 1 + n)\n",
    "    plt.imshow(decoded_imgs[i].reshape(28, 28))\n",
    "    plt.gray()\n",
    "    ax.get_xaxis().set_visible(False)\n",
    "    ax.get_yaxis().set_visible(False)\n",
    "plt.show()"
   ]
  },
  {
   "cell_type": "code",
   "execution_count": null,
   "id": "e8c93429",
   "metadata": {},
   "outputs": [],
   "source": []
  }
 ],
 "metadata": {
  "kernelspec": {
   "display_name": "Python 3 (ipykernel)",
   "language": "python",
   "name": "python3"
  },
  "language_info": {
   "codemirror_mode": {
    "name": "ipython",
    "version": 3
   },
   "file_extension": ".py",
   "mimetype": "text/x-python",
   "name": "python",
   "nbconvert_exporter": "python",
   "pygments_lexer": "ipython3",
   "version": "3.9.17"
  }
 },
 "nbformat": 4,
 "nbformat_minor": 5
}
