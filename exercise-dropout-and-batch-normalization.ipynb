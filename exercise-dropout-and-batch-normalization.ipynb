{
 "cells": [
  {
   "cell_type": "markdown",
   "id": "65dd2d0b",
   "metadata": {
    "papermill": {
     "duration": 0.006389,
     "end_time": "2022-07-21T07:04:57.829572",
     "exception": false,
     "start_time": "2022-07-21T07:04:57.823183",
     "status": "completed"
    },
    "tags": []
   },
   "source": [
    "**This notebook is an exercise in the [Intro to Deep Learning](https://www.kaggle.com/learn/intro-to-deep-learning) course.  You can reference the tutorial at [this link](https://www.kaggle.com/ryanholbrook/dropout-and-batch-normalization).**\n",
    "\n",
    "---\n"
   ]
  },
  {
   "cell_type": "markdown",
   "id": "bab9e859",
   "metadata": {
    "papermill": {
     "duration": 0.005174,
     "end_time": "2022-07-21T07:04:57.840709",
     "exception": false,
     "start_time": "2022-07-21T07:04:57.835535",
     "status": "completed"
    },
    "tags": []
   },
   "source": [
    "# Introduction #\n",
    "\n",
    "In this exercise, you'll add dropout to the *Spotify* model from Exercise 4 and see how batch normalization can let you successfully train models on difficult datasets.\n",
    "\n",
    "Run the next cell to get started!"
   ]
  },
  {
   "cell_type": "code",
   "execution_count": 1,
   "id": "44798b7b",
   "metadata": {
    "execution": {
     "iopub.execute_input": "2022-07-21T07:04:57.853937Z",
     "iopub.status.busy": "2022-07-21T07:04:57.853090Z",
     "iopub.status.idle": "2022-07-21T07:04:57.896599Z",
     "shell.execute_reply": "2022-07-21T07:04:57.895490Z"
    },
    "papermill": {
     "duration": 0.052635,
     "end_time": "2022-07-21T07:04:57.898723",
     "exception": false,
     "start_time": "2022-07-21T07:04:57.846088",
     "status": "completed"
    },
    "tags": []
   },
   "outputs": [],
   "source": [
    "# Setup plotting\n",
    "import matplotlib.pyplot as plt\n",
    "plt.style.use('seaborn-whitegrid')\n",
    "# Set Matplotlib defaults\n",
    "plt.rc('figure', autolayout=True)\n",
    "plt.rc('axes', labelweight='bold', labelsize='large',\n",
    "       titleweight='bold', titlesize=18, titlepad=10)\n",
    "plt.rc('animation', html='html5')\n",
    "\n",
    "# Setup feedback system\n",
    "from learntools.core import binder\n",
    "binder.bind(globals())\n",
    "from learntools.deep_learning_intro.ex5 import *"
   ]
  },
  {
   "cell_type": "markdown",
   "id": "51857723",
   "metadata": {
    "papermill": {
     "duration": 0.01197,
     "end_time": "2022-07-21T07:04:57.918599",
     "exception": false,
     "start_time": "2022-07-21T07:04:57.906629",
     "status": "completed"
    },
    "tags": []
   },
   "source": [
    "First load the *Spotify* dataset."
   ]
  },
  {
   "cell_type": "code",
   "execution_count": 2,
   "id": "e147fba9",
   "metadata": {
    "execution": {
     "iopub.execute_input": "2022-07-21T07:04:57.942624Z",
     "iopub.status.busy": "2022-07-21T07:04:57.942260Z",
     "iopub.status.idle": "2022-07-21T07:05:04.658837Z",
     "shell.execute_reply": "2022-07-21T07:05:04.657687Z"
    },
    "papermill": {
     "duration": 6.730274,
     "end_time": "2022-07-21T07:05:04.661233",
     "exception": false,
     "start_time": "2022-07-21T07:04:57.930959",
     "status": "completed"
    },
    "tags": []
   },
   "outputs": [
    {
     "name": "stdout",
     "output_type": "stream",
     "text": [
      "Input shape: [18]\n"
     ]
    }
   ],
   "source": [
    "import pandas as pd\n",
    "from sklearn.preprocessing import StandardScaler, OneHotEncoder\n",
    "from sklearn.compose import make_column_transformer\n",
    "from sklearn.model_selection import GroupShuffleSplit\n",
    "\n",
    "from tensorflow import keras\n",
    "from tensorflow.keras import layers\n",
    "from tensorflow.keras import callbacks\n",
    "\n",
    "spotify = pd.read_csv('../input/dl-course-data/spotify.csv')\n",
    "\n",
    "X = spotify.copy().dropna()\n",
    "y = X.pop('track_popularity')\n",
    "artists = X['track_artist']\n",
    "\n",
    "features_num = ['danceability', 'energy', 'key', 'loudness', 'mode',\n",
    "                'speechiness', 'acousticness', 'instrumentalness',\n",
    "                'liveness', 'valence', 'tempo', 'duration_ms']\n",
    "features_cat = ['playlist_genre']\n",
    "\n",
    "preprocessor = make_column_transformer(\n",
    "    (StandardScaler(), features_num),\n",
    "    (OneHotEncoder(), features_cat),\n",
    ")\n",
    "\n",
    "def group_split(X, y, group, train_size=0.75):\n",
    "    splitter = GroupShuffleSplit(train_size=train_size)\n",
    "    train, test = next(splitter.split(X, y, groups=group))\n",
    "    return (X.iloc[train], X.iloc[test], y.iloc[train], y.iloc[test])\n",
    "\n",
    "X_train, X_valid, y_train, y_valid = group_split(X, y, artists)\n",
    "\n",
    "X_train = preprocessor.fit_transform(X_train)\n",
    "X_valid = preprocessor.transform(X_valid)\n",
    "y_train = y_train / 100\n",
    "y_valid = y_valid / 100\n",
    "\n",
    "input_shape = [X_train.shape[1]]\n",
    "print(\"Input shape: {}\".format(input_shape))"
   ]
  },
  {
   "cell_type": "markdown",
   "id": "0fc62b7a",
   "metadata": {
    "papermill": {
     "duration": 0.005664,
     "end_time": "2022-07-21T07:05:04.673182",
     "exception": false,
     "start_time": "2022-07-21T07:05:04.667518",
     "status": "completed"
    },
    "tags": []
   },
   "source": [
    "# 1) Add Dropout to Spotify Model\n",
    "\n",
    "Here is the last model from Exercise 4. Add two dropout layers, one after the `Dense` layer with 128 units, and one after the `Dense` layer with 64 units. Set the dropout rate on both to `0.3`."
   ]
  },
  {
   "cell_type": "code",
   "execution_count": 3,
   "id": "780cd705",
   "metadata": {
    "execution": {
     "iopub.execute_input": "2022-07-21T07:05:04.685988Z",
     "iopub.status.busy": "2022-07-21T07:05:04.685340Z",
     "iopub.status.idle": "2022-07-21T07:05:07.659379Z",
     "shell.execute_reply": "2022-07-21T07:05:07.658399Z"
    },
    "lines_to_next_cell": 2,
    "papermill": {
     "duration": 2.982694,
     "end_time": "2022-07-21T07:05:07.661293",
     "exception": false,
     "start_time": "2022-07-21T07:05:04.678599",
     "status": "completed"
    },
    "tags": []
   },
   "outputs": [
    {
     "name": "stderr",
     "output_type": "stream",
     "text": [
      "2022-07-21 07:05:04.788848: I tensorflow/stream_executor/cuda/cuda_gpu_executor.cc:937] successful NUMA node read from SysFS had negative value (-1), but there must be at least one NUMA node, so returning NUMA node zero\n",
      "2022-07-21 07:05:04.918038: I tensorflow/stream_executor/cuda/cuda_gpu_executor.cc:937] successful NUMA node read from SysFS had negative value (-1), but there must be at least one NUMA node, so returning NUMA node zero\n",
      "2022-07-21 07:05:04.918798: I tensorflow/stream_executor/cuda/cuda_gpu_executor.cc:937] successful NUMA node read from SysFS had negative value (-1), but there must be at least one NUMA node, so returning NUMA node zero\n",
      "2022-07-21 07:05:04.920196: I tensorflow/core/platform/cpu_feature_guard.cc:142] This TensorFlow binary is optimized with oneAPI Deep Neural Network Library (oneDNN) to use the following CPU instructions in performance-critical operations:  AVX2 AVX512F FMA\n",
      "To enable them in other operations, rebuild TensorFlow with the appropriate compiler flags.\n",
      "2022-07-21 07:05:04.920501: I tensorflow/stream_executor/cuda/cuda_gpu_executor.cc:937] successful NUMA node read from SysFS had negative value (-1), but there must be at least one NUMA node, so returning NUMA node zero\n",
      "2022-07-21 07:05:04.921220: I tensorflow/stream_executor/cuda/cuda_gpu_executor.cc:937] successful NUMA node read from SysFS had negative value (-1), but there must be at least one NUMA node, so returning NUMA node zero\n",
      "2022-07-21 07:05:04.921873: I tensorflow/stream_executor/cuda/cuda_gpu_executor.cc:937] successful NUMA node read from SysFS had negative value (-1), but there must be at least one NUMA node, so returning NUMA node zero\n",
      "2022-07-21 07:05:07.277731: I tensorflow/stream_executor/cuda/cuda_gpu_executor.cc:937] successful NUMA node read from SysFS had negative value (-1), but there must be at least one NUMA node, so returning NUMA node zero\n",
      "2022-07-21 07:05:07.278633: I tensorflow/stream_executor/cuda/cuda_gpu_executor.cc:937] successful NUMA node read from SysFS had negative value (-1), but there must be at least one NUMA node, so returning NUMA node zero\n",
      "2022-07-21 07:05:07.279319: I tensorflow/stream_executor/cuda/cuda_gpu_executor.cc:937] successful NUMA node read from SysFS had negative value (-1), but there must be at least one NUMA node, so returning NUMA node zero\n",
      "2022-07-21 07:05:07.279930: I tensorflow/core/common_runtime/gpu/gpu_device.cc:1510] Created device /job:localhost/replica:0/task:0/device:GPU:0 with 15403 MB memory:  -> device: 0, name: Tesla P100-PCIE-16GB, pci bus id: 0000:00:04.0, compute capability: 6.0\n"
     ]
    },
    {
     "data": {
      "application/javascript": [
       "parent.postMessage({\"jupyterEvent\": \"custom.exercise_interaction\", \"data\": {\"outcomeType\": 1, \"valueTowardsCompletion\": 0.25, \"interactionType\": 1, \"questionType\": 2, \"questionId\": \"1_Q1\", \"learnToolsVersion\": \"0.3.4\", \"failureMessage\": \"\", \"exceptionClass\": \"\", \"trace\": \"\"}}, \"*\")"
      ],
      "text/plain": [
       "<IPython.core.display.Javascript object>"
      ]
     },
     "metadata": {},
     "output_type": "display_data"
    },
    {
     "data": {
      "text/markdown": [
       "<span style=\"color:#33cc33\">Correct</span>"
      ],
      "text/plain": [
       "Correct"
      ]
     },
     "metadata": {},
     "output_type": "display_data"
    }
   ],
   "source": [
    "# YOUR CODE HERE: Add two 30% dropout layers, one after 128 and one after 64\n",
    "model = keras.Sequential([\n",
    "    layers.Dense(128, activation='relu', input_shape=input_shape),\n",
    "    layers.Dropout(0.3),\n",
    "    #layers.BatchNormalization(),\n",
    "    layers.Dense(64, activation='relu'),\n",
    "    layers.Dropout(0.3),\n",
    "    #layers.BatchNormalization(),\n",
    "    layers.Dense(1)\n",
    "])\n",
    "\n",
    "# Check your answer\n",
    "q_1.check()"
   ]
  },
  {
   "cell_type": "code",
   "execution_count": 4,
   "id": "41ede07f",
   "metadata": {
    "execution": {
     "iopub.execute_input": "2022-07-21T07:05:07.674937Z",
     "iopub.status.busy": "2022-07-21T07:05:07.674094Z",
     "iopub.status.idle": "2022-07-21T07:05:07.678655Z",
     "shell.execute_reply": "2022-07-21T07:05:07.677773Z"
    },
    "papermill": {
     "duration": 0.013485,
     "end_time": "2022-07-21T07:05:07.680865",
     "exception": false,
     "start_time": "2022-07-21T07:05:07.667380",
     "status": "completed"
    },
    "tags": []
   },
   "outputs": [],
   "source": [
    "# Lines below will give you a hint or solution code\n",
    "#q_1.hint()\n",
    "#q_1.solution()"
   ]
  },
  {
   "cell_type": "markdown",
   "id": "e4b11d26",
   "metadata": {
    "papermill": {
     "duration": 0.005588,
     "end_time": "2022-07-21T07:05:07.692202",
     "exception": false,
     "start_time": "2022-07-21T07:05:07.686614",
     "status": "completed"
    },
    "tags": []
   },
   "source": [
    "Now run this next cell to train the model see the effect of adding dropout."
   ]
  },
  {
   "cell_type": "code",
   "execution_count": 5,
   "id": "bc32d0d0",
   "metadata": {
    "execution": {
     "iopub.execute_input": "2022-07-21T07:05:07.704966Z",
     "iopub.status.busy": "2022-07-21T07:05:07.704665Z",
     "iopub.status.idle": "2022-07-21T07:05:15.450774Z",
     "shell.execute_reply": "2022-07-21T07:05:15.449668Z"
    },
    "papermill": {
     "duration": 7.755284,
     "end_time": "2022-07-21T07:05:15.453170",
     "exception": false,
     "start_time": "2022-07-21T07:05:07.697886",
     "status": "completed"
    },
    "tags": []
   },
   "outputs": [
    {
     "name": "stderr",
     "output_type": "stream",
     "text": [
      "2022-07-21 07:05:07.785198: I tensorflow/compiler/mlir/mlir_graph_optimization_pass.cc:185] None of the MLIR Optimization Passes are enabled (registered 2)\n"
     ]
    },
    {
     "name": "stdout",
     "output_type": "stream",
     "text": [
      "Minimum Validation Loss: 0.1916\n"
     ]
    },
    {
     "data": {
      "image/png": "[encoded data removed]",
      "text/plain": [
       "<Figure size 432x288 with 1 Axes>"
      ]
     },
     "metadata": {},
     "output_type": "display_data"
    }
   ],
   "source": [
    "model.compile(\n",
    "    optimizer='adam',\n",
    "    loss='mae',\n",
    ")\n",
    "history = model.fit(\n",
    "    X_train, y_train,\n",
    "    validation_data=(X_valid, y_valid),\n",
    "    batch_size=512,\n",
    "    epochs=50,\n",
    "    verbose=0,\n",
    ")\n",
    "history_df = pd.DataFrame(history.history)\n",
    "history_df.loc[:, ['loss', 'val_loss']].plot()\n",
    "print(\"Minimum Validation Loss: {:0.4f}\".format(history_df['val_loss'].min()))"
   ]
  },
  {
   "cell_type": "markdown",
   "id": "52a0ffc7",
   "metadata": {
    "papermill": {
     "duration": 0.00639,
     "end_time": "2022-07-21T07:05:15.466535",
     "exception": false,
     "start_time": "2022-07-21T07:05:15.460145",
     "status": "completed"
    },
    "tags": []
   },
   "source": [
    "# 2) Evaluate Dropout\n",
    "\n",
    "Recall from Exercise 4 that this model tended to overfit the data around epoch 5. Did adding dropout seem to help prevent overfitting this time?"
   ]
  },
  {
   "cell_type": "code",
   "execution_count": 6,
   "id": "0b99ecf9",
   "metadata": {
    "execution": {
     "iopub.execute_input": "2022-07-21T07:05:15.485846Z",
     "iopub.status.busy": "2022-07-21T07:05:15.485474Z",
     "iopub.status.idle": "2022-07-21T07:05:15.496454Z",
     "shell.execute_reply": "2022-07-21T07:05:15.494968Z"
    },
    "papermill": {
     "duration": 0.023362,
     "end_time": "2022-07-21T07:05:15.499475",
     "exception": false,
     "start_time": "2022-07-21T07:05:15.476113",
     "status": "completed"
    },
    "tags": []
   },
   "outputs": [
    {
     "data": {
      "application/javascript": [
       "parent.postMessage({\"jupyterEvent\": \"custom.exercise_interaction\", \"data\": {\"outcomeType\": 1, \"valueTowardsCompletion\": 0.25, \"interactionType\": 1, \"questionType\": 4, \"questionId\": \"2_Q2\", \"learnToolsVersion\": \"0.3.4\", \"failureMessage\": \"\", \"exceptionClass\": \"\", \"trace\": \"\"}}, \"*\")"
      ],
      "text/plain": [
       "<IPython.core.display.Javascript object>"
      ]
     },
     "metadata": {},
     "output_type": "display_data"
    },
    {
     "data": {
      "text/markdown": [
       "<span style=\"color:#33cc33\">Correct:</span> \n",
       "\n",
       "\n",
       "From the learning curves, you can see that the validation loss remains near a constant minimum even though the training loss continues to decrease. So we can see that adding dropout did prevent overfitting this time. Moreover, by making it harder for the network to fit spurious patterns, dropout may have encouraged the network to seek out more of the true patterns, possibly improving the validation loss some as well).\n"
      ],
      "text/plain": [
       "Correct: \n",
       "\n",
       "\n",
       "From the learning curves, you can see that the validation loss remains near a constant minimum even though the training loss continues to decrease. So we can see that adding dropout did prevent overfitting this time. Moreover, by making it harder for the network to fit spurious patterns, dropout may have encouraged the network to seek out more of the true patterns, possibly improving the validation loss some as well)."
      ]
     },
     "metadata": {},
     "output_type": "display_data"
    }
   ],
   "source": [
    "# View the solution (Run this cell to receive credit!)\n",
    "q_2.check()"
   ]
  },
  {
   "cell_type": "markdown",
   "id": "1d235256",
   "metadata": {
    "papermill": {
     "duration": 0.011036,
     "end_time": "2022-07-21T07:05:15.519074",
     "exception": false,
     "start_time": "2022-07-21T07:05:15.508038",
     "status": "completed"
    },
    "tags": []
   },
   "source": [
    "Now, we'll switch topics to explore how batch normalization can fix problems in training.\n",
    "\n",
    "Load the *Concrete* dataset. We won't do any standardization this time. This will make the effect of batch normalization much more apparent."
   ]
  },
  {
   "cell_type": "code",
   "execution_count": 7,
   "id": "5543d5bb",
   "metadata": {
    "execution": {
     "iopub.execute_input": "2022-07-21T07:05:15.535689Z",
     "iopub.status.busy": "2022-07-21T07:05:15.535377Z",
     "iopub.status.idle": "2022-07-21T07:05:15.556174Z",
     "shell.execute_reply": "2022-07-21T07:05:15.555106Z"
    },
    "papermill": {
     "duration": 0.032114,
     "end_time": "2022-07-21T07:05:15.558933",
     "exception": false,
     "start_time": "2022-07-21T07:05:15.526819",
     "status": "completed"
    },
    "tags": []
   },
   "outputs": [],
   "source": [
    "import pandas as pd\n",
    "\n",
    "concrete = pd.read_csv('../input/dl-course-data/concrete.csv')\n",
    "df = concrete.copy()\n",
    "\n",
    "df_train = df.sample(frac=0.7, random_state=0)\n",
    "df_valid = df.drop(df_train.index)\n",
    "\n",
    "X_train = df_train.drop('CompressiveStrength', axis=1)\n",
    "X_valid = df_valid.drop('CompressiveStrength', axis=1)\n",
    "y_train = df_train['CompressiveStrength']\n",
    "y_valid = df_valid['CompressiveStrength']\n",
    "\n",
    "input_shape = [X_train.shape[1]]"
   ]
  },
  {
   "cell_type": "markdown",
   "id": "5ef5a97a",
   "metadata": {
    "papermill": {
     "duration": 0.00656,
     "end_time": "2022-07-21T07:05:15.573598",
     "exception": false,
     "start_time": "2022-07-21T07:05:15.567038",
     "status": "completed"
    },
    "tags": []
   },
   "source": [
    "Run the following cell to train the network on the unstandardized *Concrete* data."
   ]
  },
  {
   "cell_type": "code",
   "execution_count": 8,
   "id": "2e525446",
   "metadata": {
    "execution": {
     "iopub.execute_input": "2022-07-21T07:05:15.588443Z",
     "iopub.status.busy": "2022-07-21T07:05:15.588184Z",
     "iopub.status.idle": "2022-07-21T07:05:21.244009Z",
     "shell.execute_reply": "2022-07-21T07:05:21.242803Z"
    },
    "papermill": {
     "duration": 5.66667,
     "end_time": "2022-07-21T07:05:21.246668",
     "exception": false,
     "start_time": "2022-07-21T07:05:15.579998",
     "status": "completed"
    },
    "tags": []
   },
   "outputs": [
    {
     "name": "stdout",
     "output_type": "stream",
     "text": [
      "Minimum Validation Loss: inf\n"
     ]
    },
    {
     "data": {
      "image/png": "[encoded data removed]",
      "text/plain": [
       "<Figure size 432x288 with 1 Axes>"
      ]
     },
     "metadata": {},
     "output_type": "display_data"
    }
   ],
   "source": [
    "model = keras.Sequential([\n",
    "    layers.Dense(512, activation='relu', input_shape=input_shape),\n",
    "    layers.Dense(512, activation='relu'),    \n",
    "    layers.Dense(512, activation='relu'),\n",
    "    layers.Dense(1),\n",
    "])\n",
    "model.compile(\n",
    "    optimizer='sgd', # SGD is more sensitive to differences of scale\n",
    "    loss='mae',\n",
    "    metrics=['mae'],\n",
    ")\n",
    "history = model.fit(\n",
    "    X_train, y_train,\n",
    "    validation_data=(X_valid, y_valid),\n",
    "    batch_size=64,\n",
    "    epochs=100,\n",
    "    verbose=0,\n",
    ")\n",
    "\n",
    "history_df = pd.DataFrame(history.history)\n",
    "history_df.loc[0:, ['loss', 'val_loss']].plot()\n",
    "print((\"Minimum Validation Loss: {:0.4f}\").format(history_df['val_loss'].min()))"
   ]
  },
  {
   "cell_type": "markdown",
   "id": "abe0796a",
   "metadata": {
    "papermill": {
     "duration": 0.006871,
     "end_time": "2022-07-21T07:05:21.260823",
     "exception": false,
     "start_time": "2022-07-21T07:05:21.253952",
     "status": "completed"
    },
    "tags": []
   },
   "source": [
    "Did you end up with a blank graph? Trying to train this network on this dataset will usually fail. Even when it does converge (due to a lucky weight initialization), it tends to converge to a very large number.\n",
    "\n",
    "# 3) Add Batch Normalization Layers\n",
    "\n",
    "Batch normalization can help correct problems like this.\n",
    "\n",
    "Add four `BatchNormalization` layers, one before each of the dense layers. (Remember to move the `input_shape` argument to the new first layer.)"
   ]
  },
  {
   "cell_type": "code",
   "execution_count": 9,
   "id": "476d0018",
   "metadata": {
    "execution": {
     "iopub.execute_input": "2022-07-21T07:05:21.276262Z",
     "iopub.status.busy": "2022-07-21T07:05:21.275980Z",
     "iopub.status.idle": "2022-07-21T07:05:21.296465Z",
     "shell.execute_reply": "2022-07-21T07:05:21.295356Z"
    },
    "lines_to_next_cell": 0,
    "papermill": {
     "duration": 0.031113,
     "end_time": "2022-07-21T07:05:21.299133",
     "exception": false,
     "start_time": "2022-07-21T07:05:21.268020",
     "status": "completed"
    },
    "tags": []
   },
   "outputs": [
    {
     "data": {
      "application/javascript": [
       "parent.postMessage({\"jupyterEvent\": \"custom.exercise_interaction\", \"data\": {\"outcomeType\": 1, \"valueTowardsCompletion\": 0.25, \"interactionType\": 1, \"questionType\": 2, \"questionId\": \"3_Q3\", \"learnToolsVersion\": \"0.3.4\", \"failureMessage\": \"\", \"exceptionClass\": \"\", \"trace\": \"\"}}, \"*\")"
      ],
      "text/plain": [
       "<IPython.core.display.Javascript object>"
      ]
     },
     "metadata": {},
     "output_type": "display_data"
    },
    {
     "data": {
      "text/markdown": [
       "<span style=\"color:#33cc33\">Correct</span>"
      ],
      "text/plain": [
       "Correct"
      ]
     },
     "metadata": {},
     "output_type": "display_data"
    }
   ],
   "source": [
    "# YOUR CODE HERE: Add a BatchNormalization layer before each Dense layer\n",
    "model = keras.Sequential([\n",
    "    layers.BatchNormalization(),\n",
    "    layers.Dense(512, activation='relu', input_shape=input_shape),\n",
    "    layers.BatchNormalization(),\n",
    "    layers.Dense(512, activation='relu'),\n",
    "    layers.BatchNormalization(),\n",
    "    layers.Dense(512, activation='relu'),\n",
    "    layers.BatchNormalization(),\n",
    "    layers.Dense(1),\n",
    "])\n",
    "\n",
    "# Check your answer\n",
    "q_3.check()"
   ]
  },
  {
   "cell_type": "code",
   "execution_count": 10,
   "id": "cc0e161b",
   "metadata": {
    "execution": {
     "iopub.execute_input": "2022-07-21T07:05:21.314013Z",
     "iopub.status.busy": "2022-07-21T07:05:21.313725Z",
     "iopub.status.idle": "2022-07-21T07:05:21.318735Z",
     "shell.execute_reply": "2022-07-21T07:05:21.317934Z"
    },
    "papermill": {
     "duration": 0.014665,
     "end_time": "2022-07-21T07:05:21.320705",
     "exception": false,
     "start_time": "2022-07-21T07:05:21.306040",
     "status": "completed"
    },
    "tags": []
   },
   "outputs": [],
   "source": [
    "# Lines below will give you a hint or solution code\n",
    "#q_3.hint()\n",
    "#q_3.solution()"
   ]
  },
  {
   "cell_type": "markdown",
   "id": "8d377b69",
   "metadata": {
    "papermill": {
     "duration": 0.006802,
     "end_time": "2022-07-21T07:05:21.334506",
     "exception": false,
     "start_time": "2022-07-21T07:05:21.327704",
     "status": "completed"
    },
    "tags": []
   },
   "source": [
    "Run the next cell to see if batch normalization will let us train the model."
   ]
  },
  {
   "cell_type": "code",
   "execution_count": 11,
   "id": "45d47eca",
   "metadata": {
    "execution": {
     "iopub.execute_input": "2022-07-21T07:05:21.349772Z",
     "iopub.status.busy": "2022-07-21T07:05:21.349496Z",
     "iopub.status.idle": "2022-07-21T07:05:29.326448Z",
     "shell.execute_reply": "2022-07-21T07:05:29.325502Z"
    },
    "papermill": {
     "duration": 7.986809,
     "end_time": "2022-07-21T07:05:29.328552",
     "exception": false,
     "start_time": "2022-07-21T07:05:21.341743",
     "status": "completed"
    },
    "tags": []
   },
   "outputs": [
    {
     "name": "stdout",
     "output_type": "stream",
     "text": [
      "Minimum Validation Loss: 3.9369\n"
     ]
    },
    {
     "data": {
      "image/png": "[encoded data removed]",
      "text/plain": [
       "<Figure size 432x288 with 1 Axes>"
      ]
     },
     "metadata": {},
     "output_type": "display_data"
    }
   ],
   "source": [
    "model.compile(\n",
    "    optimizer='sgd',\n",
    "    loss='mae',\n",
    "    metrics=['mae'],\n",
    ")\n",
    "EPOCHS = 100\n",
    "history = model.fit(\n",
    "    X_train, y_train,\n",
    "    validation_data=(X_valid, y_valid),\n",
    "    batch_size=64,\n",
    "    epochs=EPOCHS,\n",
    "    verbose=0,\n",
    ")\n",
    "\n",
    "history_df = pd.DataFrame(history.history)\n",
    "history_df.loc[0:, ['loss', 'val_loss']].plot()\n",
    "print((\"Minimum Validation Loss: {:0.4f}\").format(history_df['val_loss'].min()))"
   ]
  },
  {
   "cell_type": "markdown",
   "id": "d9217a98",
   "metadata": {
    "papermill": {
     "duration": 0.007351,
     "end_time": "2022-07-21T07:05:29.343699",
     "exception": false,
     "start_time": "2022-07-21T07:05:29.336348",
     "status": "completed"
    },
    "tags": []
   },
   "source": [
    "# 4) Evaluate Batch Normalization\n",
    "\n",
    "Did adding batch normalization help?"
   ]
  },
  {
   "cell_type": "code",
   "execution_count": 12,
   "id": "2e7c5630",
   "metadata": {
    "execution": {
     "iopub.execute_input": "2022-07-21T07:05:29.361029Z",
     "iopub.status.busy": "2022-07-21T07:05:29.359443Z",
     "iopub.status.idle": "2022-07-21T07:05:29.368641Z",
     "shell.execute_reply": "2022-07-21T07:05:29.367504Z"
    },
    "lines_to_next_cell": 0,
    "papermill": {
     "duration": 0.020261,
     "end_time": "2022-07-21T07:05:29.371333",
     "exception": false,
     "start_time": "2022-07-21T07:05:29.351072",
     "status": "completed"
    },
    "tags": []
   },
   "outputs": [
    {
     "data": {
      "application/javascript": [
       "parent.postMessage({\"jupyterEvent\": \"custom.exercise_interaction\", \"data\": {\"outcomeType\": 1, \"valueTowardsCompletion\": 0.25, \"interactionType\": 1, \"questionType\": 4, \"questionId\": \"4_Q4\", \"learnToolsVersion\": \"0.3.4\", \"failureMessage\": \"\", \"exceptionClass\": \"\", \"trace\": \"\"}}, \"*\")"
      ],
      "text/plain": [
       "<IPython.core.display.Javascript object>"
      ]
     },
     "metadata": {},
     "output_type": "display_data"
    },
    {
     "data": {
      "text/markdown": [
       "<span style=\"color:#33cc33\">Correct:</span> \n",
       "\n",
       "\n",
       "You can see that adding batch normalization was a big improvement on the first attempt! By adaptively scaling the data as it passes through the network, batch normalization can let you train models on difficult datasets.\n"
      ],
      "text/plain": [
       "Correct: \n",
       "\n",
       "\n",
       "You can see that adding batch normalization was a big improvement on the first attempt! By adaptively scaling the data as it passes through the network, batch normalization can let you train models on difficult datasets."
      ]
     },
     "metadata": {},
     "output_type": "display_data"
    }
   ],
   "source": [
    "# View the solution (Run this cell to receive credit!)\n",
    "q_4.check()"
   ]
  },
  {
   "cell_type": "markdown",
   "id": "0bf6a2b3",
   "metadata": {
    "papermill": {
     "duration": 0.007355,
     "end_time": "2022-07-21T07:05:29.386864",
     "exception": false,
     "start_time": "2022-07-21T07:05:29.379509",
     "status": "completed"
    },
    "tags": []
   },
   "source": [
    "# Keep Going #\n",
    "\n",
    "[**Create neural networks**](https://www.kaggle.com/ryanholbrook/binary-classification) for binary classification."
   ]
  },
  {
   "cell_type": "markdown",
   "id": "79df00bf",
   "metadata": {
    "papermill": {
     "duration": 0.007801,
     "end_time": "2022-07-21T07:05:29.402258",
     "exception": false,
     "start_time": "2022-07-21T07:05:29.394457",
     "status": "completed"
    },
    "tags": []
   },
   "source": [
    "---\n",
    "\n",
    "\n",
    "\n",
    "\n",
    "*Have questions or comments? Visit the [course discussion forum](https://www.kaggle.com/learn/intro-to-deep-learning/discussion) to chat with other learners.*"
   ]
  },
  {
   "cell_type": "code",
   "execution_count": null,
   "id": "29445fdb",
   "metadata": {
    "papermill": {
     "duration": 0.007239,
     "end_time": "2022-07-21T07:05:29.417551",
     "exception": false,
     "start_time": "2022-07-21T07:05:29.410312",
     "status": "completed"
    },
    "tags": []
   },
   "outputs": [],
   "source": []
  },
  {
   "cell_type": "code",
   "execution_count": null,
   "id": "26783648",
   "metadata": {
    "papermill": {
     "duration": 0.007501,
     "end_time": "2022-07-21T07:05:29.432496",
     "exception": false,
     "start_time": "2022-07-21T07:05:29.424995",
     "status": "completed"
    },
    "tags": []
   },
   "outputs": [],
   "source": []
  }
 ],
 "metadata": {
  "kernelspec": {
   "display_name": "Python 3",
   "language": "python",
   "name": "python3"
  },
  "language_info": {
   "codemirror_mode": {
    "name": "ipython",
    "version": 3
   },
   "file_extension": ".py",
   "mimetype": "text/x-python",
   "name": "python",
   "nbconvert_exporter": "python",
   "pygments_lexer": "ipython3",
   "version": "3.7.12"
  },
  "papermill": {
   "default_parameters": {},
   "duration": 43.320256,
   "end_time": "2022-07-21T07:05:33.086092",
   "environment_variables": {},
   "exception": null,
   "input_path": "__notebook__.ipynb",
   "output_path": "__notebook__.ipynb",
   "parameters": {},
   "start_time": "2022-07-21T07:04:49.765836",
   "version": "2.3.4"
  }
 },
 "nbformat": 4,
 "nbformat_minor": 5
}
